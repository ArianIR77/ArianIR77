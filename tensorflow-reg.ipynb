{
 "cells": [
  {
   "cell_type": "code",
   "execution_count": 1,
   "id": "22eb088a",
   "metadata": {
    "_cell_guid": "b1076dfc-b9ad-4769-8c92-a6c4dae69d19",
    "_uuid": "8f2839f25d086af736a60e9eeb907d3b93b6e0e5",
    "execution": {
     "iopub.execute_input": "2022-07-15T21:19:20.117027Z",
     "iopub.status.busy": "2022-07-15T21:19:20.116586Z",
     "iopub.status.idle": "2022-07-15T21:19:20.136484Z",
     "shell.execute_reply": "2022-07-15T21:19:20.135558Z"
    },
    "papermill": {
     "duration": 0.033491,
     "end_time": "2022-07-15T21:19:20.139532",
     "exception": false,
     "start_time": "2022-07-15T21:19:20.106041",
     "status": "completed"
    },
    "tags": []
   },
   "outputs": [
    {
     "name": "stdout",
     "output_type": "stream",
     "text": [
      "/kaggle/input/fake-data-for-reg/fake_reg.csv\n"
     ]
    }
   ],
   "source": [
    "# This Python 3 environment comes with many helpful analytics libraries installed\n",
    "# It is defined by the kaggle/python Docker image: https://github.com/kaggle/docker-python\n",
    "# For example, here's several helpful packages to load\n",
    "\n",
    "import numpy as np # linear algebra\n",
    "import pandas as pd # data processing, CSV file I/O (e.g. pd.read_csv)\n",
    "\n",
    "# Input data files are available in the read-only \"../input/\" directory\n",
    "# For example, running this (by clicking run or pressing Shift+Enter) will list all files under the input directory\n",
    "\n",
    "import os\n",
    "for dirname, _, filenames in os.walk('/kaggle/input'):\n",
    "    for filename in filenames:\n",
    "        print(os.path.join(dirname, filename))\n",
    "\n",
    "# You can write up to 20GB to the current directory (/kaggle/working/) that gets preserved as output when you create a version using \"Save & Run All\" \n",
    "# You can also write temporary files to /kaggle/temp/, but they won't be saved outside of the current session"
   ]
  },
  {
   "cell_type": "code",
   "execution_count": 2,
   "id": "008d4f4d",
   "metadata": {
    "execution": {
     "iopub.execute_input": "2022-07-15T21:19:20.159500Z",
     "iopub.status.busy": "2022-07-15T21:19:20.158851Z",
     "iopub.status.idle": "2022-07-15T21:19:21.343896Z",
     "shell.execute_reply": "2022-07-15T21:19:21.342905Z"
    },
    "jupyter": {
     "source_hidden": true
    },
    "papermill": {
     "duration": 1.19769,
     "end_time": "2022-07-15T21:19:21.346380",
     "exception": false,
     "start_time": "2022-07-15T21:19:20.148690",
     "status": "completed"
    },
    "tags": []
   },
   "outputs": [],
   "source": [
    "import numpy as np\n",
    "import pandas as pd\n",
    "import matplotlib.pyplot as plt\n",
    "import seaborn as sns\n",
    "sns.set_style('whitegrid')\n",
    "%matplotlib inline"
   ]
  },
  {
   "cell_type": "code",
   "execution_count": 3,
   "id": "45d4f7f7",
   "metadata": {
    "execution": {
     "iopub.execute_input": "2022-07-15T21:19:21.364745Z",
     "iopub.status.busy": "2022-07-15T21:19:21.363990Z",
     "iopub.status.idle": "2022-07-15T21:19:21.380793Z",
     "shell.execute_reply": "2022-07-15T21:19:21.379936Z"
    },
    "papermill": {
     "duration": 0.028732,
     "end_time": "2022-07-15T21:19:21.383167",
     "exception": false,
     "start_time": "2022-07-15T21:19:21.354435",
     "status": "completed"
    },
    "tags": []
   },
   "outputs": [],
   "source": [
    "df = pd.read_csv('../input/fake-data-for-reg/fake_reg.csv')"
   ]
  },
  {
   "cell_type": "code",
   "execution_count": 4,
   "id": "b8a8b8e1",
   "metadata": {
    "execution": {
     "iopub.execute_input": "2022-07-15T21:19:21.401625Z",
     "iopub.status.busy": "2022-07-15T21:19:21.400934Z",
     "iopub.status.idle": "2022-07-15T21:19:21.422039Z",
     "shell.execute_reply": "2022-07-15T21:19:21.420897Z"
    },
    "papermill": {
     "duration": 0.032692,
     "end_time": "2022-07-15T21:19:21.424464",
     "exception": false,
     "start_time": "2022-07-15T21:19:21.391772",
     "status": "completed"
    },
    "tags": []
   },
   "outputs": [
    {
     "data": {
      "text/html": [
       "<div>\n",
       "<style scoped>\n",
       "    .dataframe tbody tr th:only-of-type {\n",
       "        vertical-align: middle;\n",
       "    }\n",
       "\n",
       "    .dataframe tbody tr th {\n",
       "        vertical-align: top;\n",
       "    }\n",
       "\n",
       "    .dataframe thead th {\n",
       "        text-align: right;\n",
       "    }\n",
       "</style>\n",
       "<table border=\"1\" class=\"dataframe\">\n",
       "  <thead>\n",
       "    <tr style=\"text-align: right;\">\n",
       "      <th></th>\n",
       "      <th>price</th>\n",
       "      <th>feature1</th>\n",
       "      <th>feature2</th>\n",
       "    </tr>\n",
       "  </thead>\n",
       "  <tbody>\n",
       "    <tr>\n",
       "      <th>0</th>\n",
       "      <td>461.527929</td>\n",
       "      <td>999.787558</td>\n",
       "      <td>999.766096</td>\n",
       "    </tr>\n",
       "    <tr>\n",
       "      <th>1</th>\n",
       "      <td>548.130011</td>\n",
       "      <td>998.861615</td>\n",
       "      <td>1001.042403</td>\n",
       "    </tr>\n",
       "    <tr>\n",
       "      <th>2</th>\n",
       "      <td>410.297162</td>\n",
       "      <td>1000.070267</td>\n",
       "      <td>998.844015</td>\n",
       "    </tr>\n",
       "    <tr>\n",
       "      <th>3</th>\n",
       "      <td>540.382220</td>\n",
       "      <td>999.952251</td>\n",
       "      <td>1000.440940</td>\n",
       "    </tr>\n",
       "    <tr>\n",
       "      <th>4</th>\n",
       "      <td>546.024553</td>\n",
       "      <td>1000.446011</td>\n",
       "      <td>1000.338531</td>\n",
       "    </tr>\n",
       "  </tbody>\n",
       "</table>\n",
       "</div>"
      ],
      "text/plain": [
       "        price     feature1     feature2\n",
       "0  461.527929   999.787558   999.766096\n",
       "1  548.130011   998.861615  1001.042403\n",
       "2  410.297162  1000.070267   998.844015\n",
       "3  540.382220   999.952251  1000.440940\n",
       "4  546.024553  1000.446011  1000.338531"
      ]
     },
     "execution_count": 4,
     "metadata": {},
     "output_type": "execute_result"
    }
   ],
   "source": [
    "df.head()"
   ]
  },
  {
   "cell_type": "code",
   "execution_count": 5,
   "id": "0956a94d",
   "metadata": {
    "execution": {
     "iopub.execute_input": "2022-07-15T21:19:21.443683Z",
     "iopub.status.busy": "2022-07-15T21:19:21.443306Z",
     "iopub.status.idle": "2022-07-15T21:19:23.418068Z",
     "shell.execute_reply": "2022-07-15T21:19:23.417183Z"
    },
    "papermill": {
     "duration": 1.988028,
     "end_time": "2022-07-15T21:19:23.421133",
     "exception": false,
     "start_time": "2022-07-15T21:19:21.433105",
     "status": "completed"
    },
    "tags": []
   },
   "outputs": [
    {
     "data": {
      "text/plain": [
       "<seaborn.axisgrid.PairGrid at 0x7f74ccadeb50>"
      ]
     },
     "execution_count": 5,
     "metadata": {},
     "output_type": "execute_result"
    },
    {
     "data": {
      "image/png": "[encoded data removed]",
      "text/plain": [
       "<Figure size 540x540 with 12 Axes>"
      ]
     },
     "metadata": {
      "needs_background": "light"
     },
     "output_type": "display_data"
    }
   ],
   "source": [
    "sns.pairplot(df)"
   ]
  },
  {
   "cell_type": "code",
   "execution_count": 6,
   "id": "5df5bc4f",
   "metadata": {
    "execution": {
     "iopub.execute_input": "2022-07-15T21:19:23.444715Z",
     "iopub.status.busy": "2022-07-15T21:19:23.443716Z",
     "iopub.status.idle": "2022-07-15T21:19:23.656300Z",
     "shell.execute_reply": "2022-07-15T21:19:23.655268Z"
    },
    "papermill": {
     "duration": 0.227573,
     "end_time": "2022-07-15T21:19:23.658812",
     "exception": false,
     "start_time": "2022-07-15T21:19:23.431239",
     "status": "completed"
    },
    "tags": []
   },
   "outputs": [],
   "source": [
    "from sklearn.model_selection import train_test_split"
   ]
  },
  {
   "cell_type": "code",
   "execution_count": 7,
   "id": "f0aa100e",
   "metadata": {
    "execution": {
     "iopub.execute_input": "2022-07-15T21:19:23.681221Z",
     "iopub.status.busy": "2022-07-15T21:19:23.680811Z",
     "iopub.status.idle": "2022-07-15T21:19:23.687436Z",
     "shell.execute_reply": "2022-07-15T21:19:23.686252Z"
    },
    "papermill": {
     "duration": 0.020374,
     "end_time": "2022-07-15T21:19:23.689452",
     "exception": false,
     "start_time": "2022-07-15T21:19:23.669078",
     "status": "completed"
    },
    "tags": []
   },
   "outputs": [],
   "source": [
    "X = df[['feature1', 'feature2']].values"
   ]
  },
  {
   "cell_type": "code",
   "execution_count": 8,
   "id": "df55f2fd",
   "metadata": {
    "execution": {
     "iopub.execute_input": "2022-07-15T21:19:23.711798Z",
     "iopub.status.busy": "2022-07-15T21:19:23.711084Z",
     "iopub.status.idle": "2022-07-15T21:19:23.715651Z",
     "shell.execute_reply": "2022-07-15T21:19:23.714620Z"
    },
    "papermill": {
     "duration": 0.018228,
     "end_time": "2022-07-15T21:19:23.717788",
     "exception": false,
     "start_time": "2022-07-15T21:19:23.699560",
     "status": "completed"
    },
    "tags": []
   },
   "outputs": [],
   "source": [
    "y = df['price'].values"
   ]
  },
  {
   "cell_type": "code",
   "execution_count": 9,
   "id": "fcbf4618",
   "metadata": {
    "execution": {
     "iopub.execute_input": "2022-07-15T21:19:23.740655Z",
     "iopub.status.busy": "2022-07-15T21:19:23.739749Z",
     "iopub.status.idle": "2022-07-15T21:19:23.745816Z",
     "shell.execute_reply": "2022-07-15T21:19:23.744731Z"
    },
    "papermill": {
     "duration": 0.019845,
     "end_time": "2022-07-15T21:19:23.747865",
     "exception": false,
     "start_time": "2022-07-15T21:19:23.728020",
     "status": "completed"
    },
    "tags": []
   },
   "outputs": [],
   "source": [
    "X_train, X_test, y_train, y_test = train_test_split(X, y, test_size=0.3, random_state=42)\n"
   ]
  },
  {
   "cell_type": "code",
   "execution_count": 10,
   "id": "5589fa1e",
   "metadata": {
    "execution": {
     "iopub.execute_input": "2022-07-15T21:19:23.770249Z",
     "iopub.status.busy": "2022-07-15T21:19:23.769491Z",
     "iopub.status.idle": "2022-07-15T21:19:23.776063Z",
     "shell.execute_reply": "2022-07-15T21:19:23.774898Z"
    },
    "papermill": {
     "duration": 0.020689,
     "end_time": "2022-07-15T21:19:23.778545",
     "exception": false,
     "start_time": "2022-07-15T21:19:23.757856",
     "status": "completed"
    },
    "tags": []
   },
   "outputs": [
    {
     "data": {
      "text/plain": [
       "(700, 2)"
      ]
     },
     "execution_count": 10,
     "metadata": {},
     "output_type": "execute_result"
    }
   ],
   "source": [
    "X_train.shape"
   ]
  },
  {
   "cell_type": "code",
   "execution_count": 11,
   "id": "9d9e0aed",
   "metadata": {
    "execution": {
     "iopub.execute_input": "2022-07-15T21:19:23.801432Z",
     "iopub.status.busy": "2022-07-15T21:19:23.800460Z",
     "iopub.status.idle": "2022-07-15T21:19:23.807438Z",
     "shell.execute_reply": "2022-07-15T21:19:23.806288Z"
    },
    "papermill": {
     "duration": 0.020818,
     "end_time": "2022-07-15T21:19:23.809652",
     "exception": false,
     "start_time": "2022-07-15T21:19:23.788834",
     "status": "completed"
    },
    "tags": []
   },
   "outputs": [
    {
     "data": {
      "text/plain": [
       "(700,)"
      ]
     },
     "execution_count": 11,
     "metadata": {},
     "output_type": "execute_result"
    }
   ],
   "source": [
    "y_train.shape"
   ]
  },
  {
   "cell_type": "code",
   "execution_count": 12,
   "id": "8ab2315a",
   "metadata": {
    "execution": {
     "iopub.execute_input": "2022-07-15T21:19:23.832022Z",
     "iopub.status.busy": "2022-07-15T21:19:23.831280Z",
     "iopub.status.idle": "2022-07-15T21:19:23.839162Z",
     "shell.execute_reply": "2022-07-15T21:19:23.838299Z"
    },
    "papermill": {
     "duration": 0.021465,
     "end_time": "2022-07-15T21:19:23.841239",
     "exception": false,
     "start_time": "2022-07-15T21:19:23.819774",
     "status": "completed"
    },
    "tags": []
   },
   "outputs": [
    {
     "data": {
      "text/plain": [
       "(300, 2)"
      ]
     },
     "execution_count": 12,
     "metadata": {},
     "output_type": "execute_result"
    }
   ],
   "source": [
    "X_test.shape"
   ]
  },
  {
   "cell_type": "code",
   "execution_count": 13,
   "id": "ff15049a",
   "metadata": {
    "execution": {
     "iopub.execute_input": "2022-07-15T21:19:23.864024Z",
     "iopub.status.busy": "2022-07-15T21:19:23.862965Z",
     "iopub.status.idle": "2022-07-15T21:19:23.868890Z",
     "shell.execute_reply": "2022-07-15T21:19:23.867642Z"
    },
    "papermill": {
     "duration": 0.019761,
     "end_time": "2022-07-15T21:19:23.871331",
     "exception": false,
     "start_time": "2022-07-15T21:19:23.851570",
     "status": "completed"
    },
    "tags": []
   },
   "outputs": [],
   "source": [
    "from sklearn.preprocessing import MinMaxScaler"
   ]
  },
  {
   "cell_type": "code",
   "execution_count": 14,
   "id": "ec9531a7",
   "metadata": {
    "execution": {
     "iopub.execute_input": "2022-07-15T21:19:23.893418Z",
     "iopub.status.busy": "2022-07-15T21:19:23.892668Z",
     "iopub.status.idle": "2022-07-15T21:19:23.897805Z",
     "shell.execute_reply": "2022-07-15T21:19:23.896742Z"
    },
    "papermill": {
     "duration": 0.018567,
     "end_time": "2022-07-15T21:19:23.899934",
     "exception": false,
     "start_time": "2022-07-15T21:19:23.881367",
     "status": "completed"
    },
    "tags": []
   },
   "outputs": [],
   "source": [
    "scaler = MinMaxScaler()"
   ]
  },
  {
   "cell_type": "code",
   "execution_count": 15,
   "id": "a731b922",
   "metadata": {
    "execution": {
     "iopub.execute_input": "2022-07-15T21:19:23.922300Z",
     "iopub.status.busy": "2022-07-15T21:19:23.921885Z",
     "iopub.status.idle": "2022-07-15T21:19:23.930909Z",
     "shell.execute_reply": "2022-07-15T21:19:23.929920Z"
    },
    "papermill": {
     "duration": 0.02279,
     "end_time": "2022-07-15T21:19:23.933180",
     "exception": false,
     "start_time": "2022-07-15T21:19:23.910390",
     "status": "completed"
    },
    "tags": []
   },
   "outputs": [
    {
     "data": {
      "text/plain": [
       "MinMaxScaler()"
      ]
     },
     "execution_count": 15,
     "metadata": {},
     "output_type": "execute_result"
    }
   ],
   "source": [
    "scaler.fit(X_train)"
   ]
  },
  {
   "cell_type": "code",
   "execution_count": 16,
   "id": "997c65d9",
   "metadata": {
    "execution": {
     "iopub.execute_input": "2022-07-15T21:19:23.955395Z",
     "iopub.status.busy": "2022-07-15T21:19:23.955021Z",
     "iopub.status.idle": "2022-07-15T21:19:23.960108Z",
     "shell.execute_reply": "2022-07-15T21:19:23.958946Z"
    },
    "papermill": {
     "duration": 0.018711,
     "end_time": "2022-07-15T21:19:23.962162",
     "exception": false,
     "start_time": "2022-07-15T21:19:23.943451",
     "status": "completed"
    },
    "tags": []
   },
   "outputs": [],
   "source": [
    "X_train = scaler.transform(X_train)"
   ]
  },
  {
   "cell_type": "code",
   "execution_count": 17,
   "id": "82c5c740",
   "metadata": {
    "execution": {
     "iopub.execute_input": "2022-07-15T21:19:23.984176Z",
     "iopub.status.busy": "2022-07-15T21:19:23.983845Z",
     "iopub.status.idle": "2022-07-15T21:19:23.988923Z",
     "shell.execute_reply": "2022-07-15T21:19:23.987839Z"
    },
    "papermill": {
     "duration": 0.018626,
     "end_time": "2022-07-15T21:19:23.991047",
     "exception": false,
     "start_time": "2022-07-15T21:19:23.972421",
     "status": "completed"
    },
    "tags": []
   },
   "outputs": [],
   "source": [
    "X_test = scaler.transform(X_test)"
   ]
  },
  {
   "cell_type": "code",
   "execution_count": 18,
   "id": "bc7b87c1",
   "metadata": {
    "execution": {
     "iopub.execute_input": "2022-07-15T21:19:24.013509Z",
     "iopub.status.busy": "2022-07-15T21:19:24.013127Z",
     "iopub.status.idle": "2022-07-15T21:19:34.320081Z",
     "shell.execute_reply": "2022-07-15T21:19:34.318865Z"
    },
    "papermill": {
     "duration": 10.321513,
     "end_time": "2022-07-15T21:19:34.322880",
     "exception": false,
     "start_time": "2022-07-15T21:19:24.001367",
     "status": "completed"
    },
    "tags": []
   },
   "outputs": [],
   "source": [
    "from tensorflow.keras.models import Sequential\n",
    "from tensorflow.keras.layers import Dense, Activation"
   ]
  },
  {
   "cell_type": "code",
   "execution_count": 19,
   "id": "379dfb87",
   "metadata": {
    "execution": {
     "iopub.execute_input": "2022-07-15T21:19:34.346354Z",
     "iopub.status.busy": "2022-07-15T21:19:34.345636Z",
     "iopub.status.idle": "2022-07-15T21:19:34.432926Z",
     "shell.execute_reply": "2022-07-15T21:19:34.432001Z"
    },
    "papermill": {
     "duration": 0.101559,
     "end_time": "2022-07-15T21:19:34.435053",
     "exception": false,
     "start_time": "2022-07-15T21:19:34.333494",
     "status": "completed"
    },
    "tags": []
   },
   "outputs": [
    {
     "name": "stderr",
     "output_type": "stream",
     "text": [
      "2022-07-15 21:19:34.384983: I tensorflow/core/common_runtime/process_util.cc:146] Creating new thread pool with default inter op setting: 2. Tune using inter_op_parallelism_threads for best performance.\n"
     ]
    }
   ],
   "source": [
    "model = Sequential()\n",
    "\n",
    "model.add(Dense(4,activation='relu'))\n",
    "model.add(Dense(4,activation='relu'))\n",
    "model.add(Dense(4,activation='relu'))\n",
    "\n",
    "# Final output node for prediction\n",
    "model.add(Dense(1))\n",
    "\n",
    "model.compile(optimizer='rmsprop',loss='mse')\n"
   ]
  },
  {
   "cell_type": "code",
   "execution_count": 20,
   "id": "0b6f3ca4",
   "metadata": {
    "execution": {
     "iopub.execute_input": "2022-07-15T21:19:34.458384Z",
     "iopub.status.busy": "2022-07-15T21:19:34.457299Z",
     "iopub.status.idle": "2022-07-15T21:19:45.913336Z",
     "shell.execute_reply": "2022-07-15T21:19:45.912046Z"
    },
    "papermill": {
     "duration": 11.470019,
     "end_time": "2022-07-15T21:19:45.915754",
     "exception": false,
     "start_time": "2022-07-15T21:19:34.445735",
     "status": "completed"
    },
    "tags": []
   },
   "outputs": [
    {
     "name": "stderr",
     "output_type": "stream",
     "text": [
      "2022-07-15 21:19:34.549147: I tensorflow/compiler/mlir/mlir_graph_optimization_pass.cc:185] None of the MLIR Optimization Passes are enabled (registered 2)\n"
     ]
    },
    {
     "name": "stdout",
     "output_type": "stream",
     "text": [
      "Epoch 1/250\n",
      "22/22 [==============================] - 1s 4ms/step - loss: 256598.4219\n",
      "Epoch 2/250\n",
      "22/22 [==============================] - 0s 2ms/step - loss: 256508.9375\n",
      "Epoch 3/250\n",
      "22/22 [==============================] - 0s 2ms/step - loss: 256410.4219\n",
      "Epoch 4/250\n",
      "22/22 [==============================] - 0s 2ms/step - loss: 256295.6875\n",
      "Epoch 5/250\n",
      "22/22 [==============================] - 0s 2ms/step - loss: 256163.4219\n",
      "Epoch 6/250\n",
      "22/22 [==============================] - 0s 2ms/step - loss: 256011.6562\n",
      "Epoch 7/250\n",
      "22/22 [==============================] - 0s 2ms/step - loss: 255839.3438\n",
      "Epoch 8/250\n",
      "22/22 [==============================] - 0s 2ms/step - loss: 255644.0625\n",
      "Epoch 9/250\n",
      "22/22 [==============================] - 0s 2ms/step - loss: 255425.8438\n",
      "Epoch 10/250\n",
      "22/22 [==============================] - 0s 2ms/step - loss: 255181.7812\n",
      "Epoch 11/250\n",
      "22/22 [==============================] - 0s 2ms/step - loss: 254909.4375\n",
      "Epoch 12/250\n",
      "22/22 [==============================] - 0s 3ms/step - loss: 254607.2969\n",
      "Epoch 13/250\n",
      "22/22 [==============================] - 0s 2ms/step - loss: 254271.3125\n",
      "Epoch 14/250\n",
      "22/22 [==============================] - 0s 2ms/step - loss: 253902.1719\n",
      "Epoch 15/250\n",
      "22/22 [==============================] - 0s 2ms/step - loss: 253495.3438\n",
      "Epoch 16/250\n",
      "22/22 [==============================] - 0s 2ms/step - loss: 253050.0625\n",
      "Epoch 17/250\n",
      "22/22 [==============================] - 0s 2ms/step - loss: 252559.9531\n",
      "Epoch 18/250\n",
      "22/22 [==============================] - 0s 2ms/step - loss: 252029.9375\n",
      "Epoch 19/250\n",
      "22/22 [==============================] - 0s 2ms/step - loss: 251451.7031\n",
      "Epoch 20/250\n",
      "22/22 [==============================] - 0s 2ms/step - loss: 250827.6562\n",
      "Epoch 21/250\n",
      "22/22 [==============================] - 0s 2ms/step - loss: 250147.7188\n",
      "Epoch 22/250\n",
      "22/22 [==============================] - 0s 2ms/step - loss: 249414.0312\n",
      "Epoch 23/250\n",
      "22/22 [==============================] - 0s 2ms/step - loss: 248630.3594\n",
      "Epoch 24/250\n",
      "22/22 [==============================] - 0s 1ms/step - loss: 247784.6406\n",
      "Epoch 25/250\n",
      "22/22 [==============================] - 0s 2ms/step - loss: 246877.6406\n",
      "Epoch 26/250\n",
      "22/22 [==============================] - 0s 2ms/step - loss: 245901.9375\n",
      "Epoch 27/250\n",
      "22/22 [==============================] - 0s 2ms/step - loss: 244856.7812\n",
      "Epoch 28/250\n",
      "22/22 [==============================] - 0s 2ms/step - loss: 243750.3594\n",
      "Epoch 29/250\n",
      "22/22 [==============================] - 0s 1ms/step - loss: 242562.9219\n",
      "Epoch 30/250\n",
      "22/22 [==============================] - 0s 1ms/step - loss: 241301.6250\n",
      "Epoch 31/250\n",
      "22/22 [==============================] - 0s 1ms/step - loss: 239960.2500\n",
      "Epoch 32/250\n",
      "22/22 [==============================] - 0s 1ms/step - loss: 238540.2969\n",
      "Epoch 33/250\n",
      "22/22 [==============================] - 0s 1ms/step - loss: 237037.2812\n",
      "Epoch 34/250\n",
      "22/22 [==============================] - 0s 2ms/step - loss: 235452.8438\n",
      "Epoch 35/250\n",
      "22/22 [==============================] - 0s 1ms/step - loss: 233778.0156\n",
      "Epoch 36/250\n",
      "22/22 [==============================] - 0s 2ms/step - loss: 232015.5469\n",
      "Epoch 37/250\n",
      "22/22 [==============================] - 0s 2ms/step - loss: 230164.8438\n",
      "Epoch 38/250\n",
      "22/22 [==============================] - 0s 2ms/step - loss: 228205.4375\n",
      "Epoch 39/250\n",
      "22/22 [==============================] - 0s 2ms/step - loss: 226151.0156\n",
      "Epoch 40/250\n",
      "22/22 [==============================] - 0s 2ms/step - loss: 223989.5156\n",
      "Epoch 41/250\n",
      "22/22 [==============================] - 0s 2ms/step - loss: 221736.1406\n",
      "Epoch 42/250\n",
      "22/22 [==============================] - 0s 2ms/step - loss: 219364.6875\n",
      "Epoch 43/250\n",
      "22/22 [==============================] - 0s 2ms/step - loss: 216898.3750\n",
      "Epoch 44/250\n",
      "22/22 [==============================] - 0s 2ms/step - loss: 214323.1250\n",
      "Epoch 45/250\n",
      "22/22 [==============================] - 0s 2ms/step - loss: 211628.6875\n",
      "Epoch 46/250\n",
      "22/22 [==============================] - 0s 2ms/step - loss: 208817.5312\n",
      "Epoch 47/250\n",
      "22/22 [==============================] - 0s 2ms/step - loss: 205910.7500\n",
      "Epoch 48/250\n",
      "22/22 [==============================] - 0s 2ms/step - loss: 202873.5781\n",
      "Epoch 49/250\n",
      "22/22 [==============================] - 0s 2ms/step - loss: 199746.1094\n",
      "Epoch 50/250\n",
      "22/22 [==============================] - 0s 2ms/step - loss: 196483.2500\n",
      "Epoch 51/250\n",
      "22/22 [==============================] - 0s 2ms/step - loss: 193090.8125\n",
      "Epoch 52/250\n",
      "22/22 [==============================] - 0s 2ms/step - loss: 189591.5938\n",
      "Epoch 53/250\n",
      "22/22 [==============================] - 0s 2ms/step - loss: 185980.7188\n",
      "Epoch 54/250\n",
      "22/22 [==============================] - 0s 2ms/step - loss: 182259.6562\n",
      "Epoch 55/250\n",
      "22/22 [==============================] - 0s 2ms/step - loss: 178408.1250\n",
      "Epoch 56/250\n",
      "22/22 [==============================] - 0s 2ms/step - loss: 174445.2500\n",
      "Epoch 57/250\n",
      "22/22 [==============================] - 0s 2ms/step - loss: 170363.1562\n",
      "Epoch 58/250\n",
      "22/22 [==============================] - 0s 2ms/step - loss: 166179.2969\n",
      "Epoch 59/250\n",
      "22/22 [==============================] - 0s 2ms/step - loss: 161887.5938\n",
      "Epoch 60/250\n",
      "22/22 [==============================] - 0s 2ms/step - loss: 157464.9844\n",
      "Epoch 61/250\n",
      "22/22 [==============================] - 0s 2ms/step - loss: 152924.4062\n",
      "Epoch 62/250\n",
      "22/22 [==============================] - 0s 2ms/step - loss: 148324.9844\n",
      "Epoch 63/250\n",
      "22/22 [==============================] - 0s 2ms/step - loss: 143616.6094\n",
      "Epoch 64/250\n",
      "22/22 [==============================] - 0s 2ms/step - loss: 138803.3125\n",
      "Epoch 65/250\n",
      "22/22 [==============================] - 0s 1ms/step - loss: 133923.8906\n",
      "Epoch 66/250\n",
      "22/22 [==============================] - 0s 2ms/step - loss: 128948.2500\n",
      "Epoch 67/250\n",
      "22/22 [==============================] - 0s 2ms/step - loss: 123902.7188\n",
      "Epoch 68/250\n",
      "22/22 [==============================] - 0s 2ms/step - loss: 118778.6875\n",
      "Epoch 69/250\n",
      "22/22 [==============================] - 0s 2ms/step - loss: 113621.0781\n",
      "Epoch 70/250\n",
      "22/22 [==============================] - 0s 2ms/step - loss: 108375.1172\n",
      "Epoch 71/250\n",
      "22/22 [==============================] - 0s 2ms/step - loss: 103087.0078\n",
      "Epoch 72/250\n",
      "22/22 [==============================] - 0s 2ms/step - loss: 97791.3516\n",
      "Epoch 73/250\n",
      "22/22 [==============================] - 0s 2ms/step - loss: 92470.9766\n",
      "Epoch 74/250\n",
      "22/22 [==============================] - 0s 2ms/step - loss: 87133.9766\n",
      "Epoch 75/250\n",
      "22/22 [==============================] - 0s 2ms/step - loss: 81764.3359\n",
      "Epoch 76/250\n",
      "22/22 [==============================] - 0s 2ms/step - loss: 76426.5469\n",
      "Epoch 77/250\n",
      "22/22 [==============================] - 0s 2ms/step - loss: 71103.7109\n",
      "Epoch 78/250\n",
      "22/22 [==============================] - 0s 2ms/step - loss: 65857.4375\n",
      "Epoch 79/250\n",
      "22/22 [==============================] - 0s 2ms/step - loss: 60680.4922\n",
      "Epoch 80/250\n",
      "22/22 [==============================] - 0s 2ms/step - loss: 55544.2383\n",
      "Epoch 81/250\n",
      "22/22 [==============================] - 0s 2ms/step - loss: 50501.3203\n",
      "Epoch 82/250\n",
      "22/22 [==============================] - 0s 2ms/step - loss: 45570.5625\n",
      "Epoch 83/250\n",
      "22/22 [==============================] - 0s 2ms/step - loss: 40805.0898\n",
      "Epoch 84/250\n",
      "22/22 [==============================] - 0s 2ms/step - loss: 36206.5469\n",
      "Epoch 85/250\n",
      "22/22 [==============================] - 0s 2ms/step - loss: 31795.5430\n",
      "Epoch 86/250\n",
      "22/22 [==============================] - 0s 2ms/step - loss: 27542.8594\n",
      "Epoch 87/250\n",
      "22/22 [==============================] - 0s 2ms/step - loss: 23526.0430\n",
      "Epoch 88/250\n",
      "22/22 [==============================] - 0s 2ms/step - loss: 19781.9082\n",
      "Epoch 89/250\n",
      "22/22 [==============================] - 0s 2ms/step - loss: 16283.7910\n",
      "Epoch 90/250\n",
      "22/22 [==============================] - 0s 2ms/step - loss: 13121.0215\n",
      "Epoch 91/250\n",
      "22/22 [==============================] - 0s 2ms/step - loss: 10310.2197\n",
      "Epoch 92/250\n",
      "22/22 [==============================] - 0s 2ms/step - loss: 7865.2456\n",
      "Epoch 93/250\n",
      "22/22 [==============================] - 0s 2ms/step - loss: 5802.3398\n",
      "Epoch 94/250\n",
      "22/22 [==============================] - 0s 2ms/step - loss: 4138.6855\n",
      "Epoch 95/250\n",
      "22/22 [==============================] - 0s 2ms/step - loss: 2939.7766\n",
      "Epoch 96/250\n",
      "22/22 [==============================] - 0s 2ms/step - loss: 2152.6846\n",
      "Epoch 97/250\n",
      "22/22 [==============================] - 0s 2ms/step - loss: 1769.4487\n",
      "Epoch 98/250\n",
      "22/22 [==============================] - 0s 2ms/step - loss: 1649.6820\n",
      "Epoch 99/250\n",
      "22/22 [==============================] - 0s 2ms/step - loss: 1614.0138\n",
      "Epoch 100/250\n",
      "22/22 [==============================] - 0s 1ms/step - loss: 1589.3569\n",
      "Epoch 101/250\n",
      "22/22 [==============================] - 0s 1ms/step - loss: 1559.2836\n",
      "Epoch 102/250\n",
      "22/22 [==============================] - 0s 2ms/step - loss: 1534.8055\n",
      "Epoch 103/250\n",
      "22/22 [==============================] - 0s 1ms/step - loss: 1509.0533\n",
      "Epoch 104/250\n",
      "22/22 [==============================] - 0s 2ms/step - loss: 1482.7921\n",
      "Epoch 105/250\n",
      "22/22 [==============================] - 0s 2ms/step - loss: 1457.9503\n",
      "Epoch 106/250\n",
      "22/22 [==============================] - 0s 2ms/step - loss: 1433.5564\n",
      "Epoch 107/250\n",
      "22/22 [==============================] - 0s 2ms/step - loss: 1411.3223\n",
      "Epoch 108/250\n",
      "22/22 [==============================] - 0s 1ms/step - loss: 1385.4525\n",
      "Epoch 109/250\n",
      "22/22 [==============================] - 0s 1ms/step - loss: 1358.3003\n",
      "Epoch 110/250\n",
      "22/22 [==============================] - 0s 2ms/step - loss: 1340.0869\n",
      "Epoch 111/250\n",
      "22/22 [==============================] - 0s 2ms/step - loss: 1315.0300\n",
      "Epoch 112/250\n",
      "22/22 [==============================] - 0s 1ms/step - loss: 1291.0165\n",
      "Epoch 113/250\n",
      "22/22 [==============================] - 0s 2ms/step - loss: 1263.9762\n",
      "Epoch 114/250\n",
      "22/22 [==============================] - 0s 2ms/step - loss: 1237.7601\n",
      "Epoch 115/250\n",
      "22/22 [==============================] - 0s 2ms/step - loss: 1215.2867\n",
      "Epoch 116/250\n",
      "22/22 [==============================] - 0s 2ms/step - loss: 1190.2831\n",
      "Epoch 117/250\n",
      "22/22 [==============================] - 0s 1ms/step - loss: 1167.2397\n",
      "Epoch 118/250\n",
      "22/22 [==============================] - 0s 1ms/step - loss: 1144.5579\n",
      "Epoch 119/250\n",
      "22/22 [==============================] - 0s 2ms/step - loss: 1120.4835\n",
      "Epoch 120/250\n",
      "22/22 [==============================] - 0s 1ms/step - loss: 1097.2489\n",
      "Epoch 121/250\n",
      "22/22 [==============================] - 0s 1ms/step - loss: 1072.5085\n",
      "Epoch 122/250\n",
      "22/22 [==============================] - 0s 1ms/step - loss: 1054.0697\n",
      "Epoch 123/250\n",
      "22/22 [==============================] - 0s 1ms/step - loss: 1033.0012\n",
      "Epoch 124/250\n",
      "22/22 [==============================] - 0s 1ms/step - loss: 1010.2101\n",
      "Epoch 125/250\n",
      "22/22 [==============================] - 0s 1ms/step - loss: 987.8849\n",
      "Epoch 126/250\n",
      "22/22 [==============================] - 0s 2ms/step - loss: 963.5220\n",
      "Epoch 127/250\n",
      "22/22 [==============================] - 0s 1ms/step - loss: 941.1929\n",
      "Epoch 128/250\n",
      "22/22 [==============================] - 0s 2ms/step - loss: 918.5581\n",
      "Epoch 129/250\n",
      "22/22 [==============================] - 0s 2ms/step - loss: 901.7548\n",
      "Epoch 130/250\n",
      "22/22 [==============================] - 0s 1ms/step - loss: 883.3057\n",
      "Epoch 131/250\n",
      "22/22 [==============================] - 0s 1ms/step - loss: 862.4619\n",
      "Epoch 132/250\n",
      "22/22 [==============================] - 0s 1ms/step - loss: 844.2532\n",
      "Epoch 133/250\n",
      "22/22 [==============================] - 0s 1ms/step - loss: 824.8231\n",
      "Epoch 134/250\n",
      "22/22 [==============================] - 0s 2ms/step - loss: 804.4088\n",
      "Epoch 135/250\n",
      "22/22 [==============================] - 0s 2ms/step - loss: 784.0381\n",
      "Epoch 136/250\n",
      "22/22 [==============================] - 0s 2ms/step - loss: 766.2981\n",
      "Epoch 137/250\n",
      "22/22 [==============================] - 0s 2ms/step - loss: 744.3159\n",
      "Epoch 138/250\n",
      "22/22 [==============================] - 0s 2ms/step - loss: 725.0579\n",
      "Epoch 139/250\n",
      "22/22 [==============================] - 0s 2ms/step - loss: 705.4879\n",
      "Epoch 140/250\n",
      "22/22 [==============================] - 0s 2ms/step - loss: 685.7441\n",
      "Epoch 141/250\n",
      "22/22 [==============================] - 0s 2ms/step - loss: 668.7645\n",
      "Epoch 142/250\n",
      "22/22 [==============================] - 0s 2ms/step - loss: 651.1974\n",
      "Epoch 143/250\n",
      "22/22 [==============================] - 0s 2ms/step - loss: 634.3174\n",
      "Epoch 144/250\n",
      "22/22 [==============================] - 0s 2ms/step - loss: 613.4179\n",
      "Epoch 145/250\n",
      "22/22 [==============================] - 0s 2ms/step - loss: 597.0161\n",
      "Epoch 146/250\n",
      "22/22 [==============================] - 0s 2ms/step - loss: 577.9600\n",
      "Epoch 147/250\n",
      "22/22 [==============================] - 0s 1ms/step - loss: 561.9296\n",
      "Epoch 148/250\n",
      "22/22 [==============================] - 0s 2ms/step - loss: 543.7983\n",
      "Epoch 149/250\n",
      "22/22 [==============================] - 0s 2ms/step - loss: 524.7226\n",
      "Epoch 150/250\n",
      "22/22 [==============================] - 0s 2ms/step - loss: 507.7984\n",
      "Epoch 151/250\n",
      "22/22 [==============================] - 0s 2ms/step - loss: 489.6214\n",
      "Epoch 152/250\n",
      "22/22 [==============================] - 0s 2ms/step - loss: 473.1434\n",
      "Epoch 153/250\n",
      "22/22 [==============================] - 0s 2ms/step - loss: 458.0268\n",
      "Epoch 154/250\n",
      "22/22 [==============================] - 0s 2ms/step - loss: 440.7139\n",
      "Epoch 155/250\n",
      "22/22 [==============================] - 0s 2ms/step - loss: 424.2107\n",
      "Epoch 156/250\n",
      "22/22 [==============================] - 0s 2ms/step - loss: 407.3250\n",
      "Epoch 157/250\n",
      "22/22 [==============================] - 0s 2ms/step - loss: 391.4390\n",
      "Epoch 158/250\n",
      "22/22 [==============================] - 0s 2ms/step - loss: 375.0502\n",
      "Epoch 159/250\n",
      "22/22 [==============================] - 0s 2ms/step - loss: 359.3531\n",
      "Epoch 160/250\n",
      "22/22 [==============================] - 0s 2ms/step - loss: 343.4901\n",
      "Epoch 161/250\n",
      "22/22 [==============================] - 0s 2ms/step - loss: 328.4616\n",
      "Epoch 162/250\n",
      "22/22 [==============================] - 0s 2ms/step - loss: 313.3520\n",
      "Epoch 163/250\n",
      "22/22 [==============================] - 0s 2ms/step - loss: 301.5990\n",
      "Epoch 164/250\n",
      "22/22 [==============================] - 0s 2ms/step - loss: 290.2785\n",
      "Epoch 165/250\n",
      "22/22 [==============================] - 0s 3ms/step - loss: 278.2700\n",
      "Epoch 166/250\n",
      "22/22 [==============================] - 0s 2ms/step - loss: 266.4003\n",
      "Epoch 167/250\n",
      "22/22 [==============================] - 0s 2ms/step - loss: 254.8847\n",
      "Epoch 168/250\n",
      "22/22 [==============================] - 0s 3ms/step - loss: 242.4475\n",
      "Epoch 169/250\n",
      "22/22 [==============================] - 0s 2ms/step - loss: 229.5890\n",
      "Epoch 170/250\n",
      "22/22 [==============================] - 0s 3ms/step - loss: 217.5499\n",
      "Epoch 171/250\n",
      "22/22 [==============================] - 0s 4ms/step - loss: 206.3203\n",
      "Epoch 172/250\n",
      "22/22 [==============================] - 0s 2ms/step - loss: 194.5913\n",
      "Epoch 173/250\n",
      "22/22 [==============================] - 0s 2ms/step - loss: 183.1878\n",
      "Epoch 174/250\n",
      "22/22 [==============================] - 0s 2ms/step - loss: 173.9185\n",
      "Epoch 175/250\n",
      "22/22 [==============================] - 0s 2ms/step - loss: 164.7629\n",
      "Epoch 176/250\n",
      "22/22 [==============================] - 0s 2ms/step - loss: 154.8899\n",
      "Epoch 177/250\n",
      "22/22 [==============================] - 0s 2ms/step - loss: 147.2126\n",
      "Epoch 178/250\n",
      "22/22 [==============================] - 0s 2ms/step - loss: 139.8298\n",
      "Epoch 179/250\n",
      "22/22 [==============================] - 0s 2ms/step - loss: 132.2250\n",
      "Epoch 180/250\n",
      "22/22 [==============================] - 0s 2ms/step - loss: 123.3337\n",
      "Epoch 181/250\n",
      "22/22 [==============================] - 0s 2ms/step - loss: 117.1445\n",
      "Epoch 182/250\n",
      "22/22 [==============================] - 0s 2ms/step - loss: 109.4408\n",
      "Epoch 183/250\n",
      "22/22 [==============================] - 0s 2ms/step - loss: 103.0568\n",
      "Epoch 184/250\n",
      "22/22 [==============================] - 0s 2ms/step - loss: 97.4008\n",
      "Epoch 185/250\n",
      "22/22 [==============================] - 0s 2ms/step - loss: 91.4589\n",
      "Epoch 186/250\n",
      "22/22 [==============================] - 0s 2ms/step - loss: 85.6624\n",
      "Epoch 187/250\n",
      "22/22 [==============================] - 0s 2ms/step - loss: 80.3302\n",
      "Epoch 188/250\n",
      "22/22 [==============================] - 0s 2ms/step - loss: 75.4811\n",
      "Epoch 189/250\n",
      "22/22 [==============================] - 0s 2ms/step - loss: 70.4443\n",
      "Epoch 190/250\n",
      "22/22 [==============================] - 0s 2ms/step - loss: 66.2285\n",
      "Epoch 191/250\n",
      "22/22 [==============================] - 0s 2ms/step - loss: 62.6166\n",
      "Epoch 192/250\n",
      "22/22 [==============================] - 0s 2ms/step - loss: 58.3394\n",
      "Epoch 193/250\n",
      "22/22 [==============================] - 0s 2ms/step - loss: 54.6355\n",
      "Epoch 194/250\n",
      "22/22 [==============================] - 0s 2ms/step - loss: 51.2717\n",
      "Epoch 195/250\n",
      "22/22 [==============================] - 0s 2ms/step - loss: 48.6442\n",
      "Epoch 196/250\n",
      "22/22 [==============================] - 0s 2ms/step - loss: 45.9845\n",
      "Epoch 197/250\n",
      "22/22 [==============================] - 0s 2ms/step - loss: 43.4555\n",
      "Epoch 198/250\n",
      "22/22 [==============================] - 0s 2ms/step - loss: 41.4264\n",
      "Epoch 199/250\n",
      "22/22 [==============================] - 0s 2ms/step - loss: 38.8492\n",
      "Epoch 200/250\n",
      "22/22 [==============================] - 0s 1ms/step - loss: 37.3745\n",
      "Epoch 201/250\n",
      "22/22 [==============================] - 0s 2ms/step - loss: 35.8532\n",
      "Epoch 202/250\n",
      "22/22 [==============================] - 0s 2ms/step - loss: 34.4882\n",
      "Epoch 203/250\n",
      "22/22 [==============================] - 0s 2ms/step - loss: 32.9327\n",
      "Epoch 204/250\n",
      "22/22 [==============================] - 0s 2ms/step - loss: 31.5832\n",
      "Epoch 205/250\n",
      "22/22 [==============================] - 0s 1ms/step - loss: 30.1174\n",
      "Epoch 206/250\n",
      "22/22 [==============================] - 0s 2ms/step - loss: 29.6014\n",
      "Epoch 207/250\n",
      "22/22 [==============================] - 0s 2ms/step - loss: 28.5112\n",
      "Epoch 208/250\n",
      "22/22 [==============================] - 0s 2ms/step - loss: 28.0836\n",
      "Epoch 209/250\n",
      "22/22 [==============================] - 0s 2ms/step - loss: 27.2060\n",
      "Epoch 210/250\n",
      "22/22 [==============================] - 0s 1ms/step - loss: 26.8252\n",
      "Epoch 211/250\n",
      "22/22 [==============================] - 0s 2ms/step - loss: 26.4684\n",
      "Epoch 212/250\n",
      "22/22 [==============================] - 0s 2ms/step - loss: 26.0195\n",
      "Epoch 213/250\n",
      "22/22 [==============================] - 0s 2ms/step - loss: 26.0056\n",
      "Epoch 214/250\n",
      "22/22 [==============================] - 0s 2ms/step - loss: 25.3546\n",
      "Epoch 215/250\n",
      "22/22 [==============================] - 0s 2ms/step - loss: 25.7094\n",
      "Epoch 216/250\n",
      "22/22 [==============================] - 0s 2ms/step - loss: 25.3383\n",
      "Epoch 217/250\n",
      "22/22 [==============================] - 0s 2ms/step - loss: 24.7178\n",
      "Epoch 218/250\n",
      "22/22 [==============================] - 0s 2ms/step - loss: 24.7165\n",
      "Epoch 219/250\n",
      "22/22 [==============================] - 0s 2ms/step - loss: 24.9412\n",
      "Epoch 220/250\n",
      "22/22 [==============================] - 0s 2ms/step - loss: 24.7859\n",
      "Epoch 221/250\n",
      "22/22 [==============================] - 0s 2ms/step - loss: 24.6786\n",
      "Epoch 222/250\n",
      "22/22 [==============================] - 0s 2ms/step - loss: 24.6160\n",
      "Epoch 223/250\n",
      "22/22 [==============================] - 0s 2ms/step - loss: 24.7660\n",
      "Epoch 224/250\n",
      "22/22 [==============================] - 0s 2ms/step - loss: 24.3958\n",
      "Epoch 225/250\n",
      "22/22 [==============================] - 0s 2ms/step - loss: 24.5012\n",
      "Epoch 226/250\n",
      "22/22 [==============================] - 0s 2ms/step - loss: 24.3806\n",
      "Epoch 227/250\n",
      "22/22 [==============================] - 0s 2ms/step - loss: 24.2042\n",
      "Epoch 228/250\n",
      "22/22 [==============================] - 0s 2ms/step - loss: 24.1242\n",
      "Epoch 229/250\n",
      "22/22 [==============================] - 0s 2ms/step - loss: 24.3945\n",
      "Epoch 230/250\n",
      "22/22 [==============================] - 0s 2ms/step - loss: 24.3102\n",
      "Epoch 231/250\n",
      "22/22 [==============================] - 0s 2ms/step - loss: 24.1179\n",
      "Epoch 232/250\n",
      "22/22 [==============================] - 0s 2ms/step - loss: 23.9466\n",
      "Epoch 233/250\n",
      "22/22 [==============================] - 0s 2ms/step - loss: 24.4769\n",
      "Epoch 234/250\n",
      "22/22 [==============================] - 0s 2ms/step - loss: 24.1320\n",
      "Epoch 235/250\n",
      "22/22 [==============================] - 0s 3ms/step - loss: 24.2906\n",
      "Epoch 236/250\n",
      "22/22 [==============================] - 0s 2ms/step - loss: 24.5270\n",
      "Epoch 237/250\n",
      "22/22 [==============================] - 0s 2ms/step - loss: 24.0976\n",
      "Epoch 238/250\n",
      "22/22 [==============================] - 0s 2ms/step - loss: 24.3640\n",
      "Epoch 239/250\n",
      "22/22 [==============================] - 0s 2ms/step - loss: 24.5636\n",
      "Epoch 240/250\n",
      "22/22 [==============================] - 0s 2ms/step - loss: 24.5133\n",
      "Epoch 241/250\n",
      "22/22 [==============================] - 0s 2ms/step - loss: 24.0572\n",
      "Epoch 242/250\n",
      "22/22 [==============================] - 0s 2ms/step - loss: 24.2978\n",
      "Epoch 243/250\n",
      "22/22 [==============================] - 0s 2ms/step - loss: 24.1924\n",
      "Epoch 244/250\n",
      "22/22 [==============================] - 0s 2ms/step - loss: 24.2037\n",
      "Epoch 245/250\n",
      "22/22 [==============================] - 0s 2ms/step - loss: 23.7448\n",
      "Epoch 246/250\n",
      "22/22 [==============================] - 0s 2ms/step - loss: 24.5859\n",
      "Epoch 247/250\n",
      "22/22 [==============================] - 0s 2ms/step - loss: 23.9092\n",
      "Epoch 248/250\n",
      "22/22 [==============================] - 0s 2ms/step - loss: 24.4553\n",
      "Epoch 249/250\n",
      "22/22 [==============================] - 0s 2ms/step - loss: 24.1548\n",
      "Epoch 250/250\n",
      "22/22 [==============================] - 0s 2ms/step - loss: 24.1997\n"
     ]
    },
    {
     "data": {
      "text/plain": [
       "<keras.callbacks.History at 0x7f74a1f5c050>"
      ]
     },
     "execution_count": 20,
     "metadata": {},
     "output_type": "execute_result"
    }
   ],
   "source": [
    "model.fit(x= X_train, y= y_train , epochs=250)"
   ]
  },
  {
   "cell_type": "code",
   "execution_count": 21,
   "id": "f68afd6b",
   "metadata": {
    "execution": {
     "iopub.execute_input": "2022-07-15T21:19:45.995403Z",
     "iopub.status.busy": "2022-07-15T21:19:45.994028Z",
     "iopub.status.idle": "2022-07-15T21:19:46.000640Z",
     "shell.execute_reply": "2022-07-15T21:19:45.999434Z"
    },
    "papermill": {
     "duration": 0.049245,
     "end_time": "2022-07-15T21:19:46.003053",
     "exception": false,
     "start_time": "2022-07-15T21:19:45.953808",
     "status": "completed"
    },
    "tags": []
   },
   "outputs": [],
   "source": [
    "loss_df = pd.DataFrame(model.history.history)"
   ]
  },
  {
   "cell_type": "code",
   "execution_count": 22,
   "id": "2c39c9b5",
   "metadata": {
    "execution": {
     "iopub.execute_input": "2022-07-15T21:19:46.081791Z",
     "iopub.status.busy": "2022-07-15T21:19:46.080961Z",
     "iopub.status.idle": "2022-07-15T21:19:46.351683Z",
     "shell.execute_reply": "2022-07-15T21:19:46.350413Z"
    },
    "papermill": {
     "duration": 0.314287,
     "end_time": "2022-07-15T21:19:46.354472",
     "exception": false,
     "start_time": "2022-07-15T21:19:46.040185",
     "status": "completed"
    },
    "tags": []
   },
   "outputs": [
    {
     "data": {
      "text/plain": [
       "<AxesSubplot:>"
      ]
     },
     "execution_count": 22,
     "metadata": {},
     "output_type": "execute_result"
    },
    {
     "data": {
      "image/png": "[encoded data removed]",
      "text/plain": [
       "<Figure size 432x288 with 1 Axes>"
      ]
     },
     "metadata": {
      "needs_background": "light"
     },
     "output_type": "display_data"
    }
   ],
   "source": [
    "loss_df.plot()"
   ]
  },
  {
   "cell_type": "code",
   "execution_count": 23,
   "id": "f8e70341",
   "metadata": {
    "execution": {
     "iopub.execute_input": "2022-07-15T21:19:46.435116Z",
     "iopub.status.busy": "2022-07-15T21:19:46.434242Z",
     "iopub.status.idle": "2022-07-15T21:19:46.654898Z",
     "shell.execute_reply": "2022-07-15T21:19:46.653756Z"
    },
    "papermill": {
     "duration": 0.26489,
     "end_time": "2022-07-15T21:19:46.657586",
     "exception": false,
     "start_time": "2022-07-15T21:19:46.392696",
     "status": "completed"
    },
    "tags": []
   },
   "outputs": [
    {
     "name": "stdout",
     "output_type": "stream",
     "text": [
      "10/10 [==============================] - 0s 2ms/step - loss: 25.1019\n"
     ]
    },
    {
     "data": {
      "text/plain": [
       "25.101917266845703"
      ]
     },
     "execution_count": 23,
     "metadata": {},
     "output_type": "execute_result"
    }
   ],
   "source": [
    "model.evaluate(X_test, y_test)"
   ]
  },
  {
   "cell_type": "code",
   "execution_count": 24,
   "id": "883e41a0",
   "metadata": {
    "execution": {
     "iopub.execute_input": "2022-07-15T21:19:46.735195Z",
     "iopub.status.busy": "2022-07-15T21:19:46.734794Z",
     "iopub.status.idle": "2022-07-15T21:19:46.834501Z",
     "shell.execute_reply": "2022-07-15T21:19:46.833355Z"
    },
    "papermill": {
     "duration": 0.141798,
     "end_time": "2022-07-15T21:19:46.836950",
     "exception": false,
     "start_time": "2022-07-15T21:19:46.695152",
     "status": "completed"
    },
    "tags": []
   },
   "outputs": [
    {
     "name": "stdout",
     "output_type": "stream",
     "text": [
      "22/22 [==============================] - 0s 1ms/step - loss: 24.4051\n"
     ]
    },
    {
     "data": {
      "text/plain": [
       "24.405086517333984"
      ]
     },
     "execution_count": 24,
     "metadata": {},
     "output_type": "execute_result"
    }
   ],
   "source": [
    "model.evaluate(X_train, y_train)"
   ]
  },
  {
   "cell_type": "code",
   "execution_count": 25,
   "id": "234ce85a",
   "metadata": {
    "execution": {
     "iopub.execute_input": "2022-07-15T21:19:46.914466Z",
     "iopub.status.busy": "2022-07-15T21:19:46.913423Z",
     "iopub.status.idle": "2022-07-15T21:19:47.066921Z",
     "shell.execute_reply": "2022-07-15T21:19:47.065654Z"
    },
    "papermill": {
     "duration": 0.195144,
     "end_time": "2022-07-15T21:19:47.069677",
     "exception": false,
     "start_time": "2022-07-15T21:19:46.874533",
     "status": "completed"
    },
    "tags": []
   },
   "outputs": [],
   "source": [
    "predict = model.predict(X_test)"
   ]
  },
  {
   "cell_type": "code",
   "execution_count": 26,
   "id": "a60ca4a5",
   "metadata": {
    "execution": {
     "iopub.execute_input": "2022-07-15T21:19:47.146664Z",
     "iopub.status.busy": "2022-07-15T21:19:47.146287Z",
     "iopub.status.idle": "2022-07-15T21:19:47.151358Z",
     "shell.execute_reply": "2022-07-15T21:19:47.150043Z"
    },
    "papermill": {
     "duration": 0.046982,
     "end_time": "2022-07-15T21:19:47.153684",
     "exception": false,
     "start_time": "2022-07-15T21:19:47.106702",
     "status": "completed"
    },
    "tags": []
   },
   "outputs": [],
   "source": [
    "predict = pd.Series(predict.reshape(300,))"
   ]
  },
  {
   "cell_type": "code",
   "execution_count": 27,
   "id": "527ff22d",
   "metadata": {
    "execution": {
     "iopub.execute_input": "2022-07-15T21:19:47.230712Z",
     "iopub.status.busy": "2022-07-15T21:19:47.230318Z",
     "iopub.status.idle": "2022-07-15T21:19:47.235861Z",
     "shell.execute_reply": "2022-07-15T21:19:47.234531Z"
    },
    "papermill": {
     "duration": 0.047461,
     "end_time": "2022-07-15T21:19:47.238199",
     "exception": false,
     "start_time": "2022-07-15T21:19:47.190738",
     "status": "completed"
    },
    "tags": []
   },
   "outputs": [],
   "source": [
    "pred_df = pd.DataFrame(y_test, columns=['Test true y'])"
   ]
  },
  {
   "cell_type": "code",
   "execution_count": 28,
   "id": "32a65bac",
   "metadata": {
    "execution": {
     "iopub.execute_input": "2022-07-15T21:19:47.315360Z",
     "iopub.status.busy": "2022-07-15T21:19:47.314897Z",
     "iopub.status.idle": "2022-07-15T21:19:47.391591Z",
     "shell.execute_reply": "2022-07-15T21:19:47.390306Z"
    },
    "papermill": {
     "duration": 0.118752,
     "end_time": "2022-07-15T21:19:47.394472",
     "exception": false,
     "start_time": "2022-07-15T21:19:47.275720",
     "status": "completed"
    },
    "tags": []
   },
   "outputs": [],
   "source": [
    "test_predictions = model.predict(X_test)"
   ]
  },
  {
   "cell_type": "code",
   "execution_count": 29,
   "id": "25fd20bf",
   "metadata": {
    "execution": {
     "iopub.execute_input": "2022-07-15T21:19:47.472806Z",
     "iopub.status.busy": "2022-07-15T21:19:47.471681Z",
     "iopub.status.idle": "2022-07-15T21:19:47.478589Z",
     "shell.execute_reply": "2022-07-15T21:19:47.477410Z"
    },
    "papermill": {
     "duration": 0.049189,
     "end_time": "2022-07-15T21:19:47.481030",
     "exception": false,
     "start_time": "2022-07-15T21:19:47.431841",
     "status": "completed"
    },
    "tags": []
   },
   "outputs": [],
   "source": [
    "pred_df = pd.DataFrame(y_test,columns=['Test Y'])"
   ]
  },
  {
   "cell_type": "code",
   "execution_count": 30,
   "id": "538fca63",
   "metadata": {
    "execution": {
     "iopub.execute_input": "2022-07-15T21:19:47.558067Z",
     "iopub.status.busy": "2022-07-15T21:19:47.557700Z",
     "iopub.status.idle": "2022-07-15T21:19:47.563385Z",
     "shell.execute_reply": "2022-07-15T21:19:47.561965Z"
    },
    "papermill": {
     "duration": 0.046563,
     "end_time": "2022-07-15T21:19:47.565855",
     "exception": false,
     "start_time": "2022-07-15T21:19:47.519292",
     "status": "completed"
    },
    "tags": []
   },
   "outputs": [],
   "source": [
    "test_predictions = pd.Series(test_predictions.reshape(300,))"
   ]
  },
  {
   "cell_type": "code",
   "execution_count": 31,
   "id": "887d2423",
   "metadata": {
    "execution": {
     "iopub.execute_input": "2022-07-15T21:19:47.643861Z",
     "iopub.status.busy": "2022-07-15T21:19:47.643501Z",
     "iopub.status.idle": "2022-07-15T21:19:47.649483Z",
     "shell.execute_reply": "2022-07-15T21:19:47.648506Z"
    },
    "papermill": {
     "duration": 0.046852,
     "end_time": "2022-07-15T21:19:47.651662",
     "exception": false,
     "start_time": "2022-07-15T21:19:47.604810",
     "status": "completed"
    },
    "tags": []
   },
   "outputs": [],
   "source": [
    "pred_df = pd.concat([pred_df,test_predictions],axis=1)"
   ]
  },
  {
   "cell_type": "code",
   "execution_count": 32,
   "id": "fb36a8c8",
   "metadata": {
    "execution": {
     "iopub.execute_input": "2022-07-15T21:19:47.732411Z",
     "iopub.status.busy": "2022-07-15T21:19:47.731158Z",
     "iopub.status.idle": "2022-07-15T21:19:47.736378Z",
     "shell.execute_reply": "2022-07-15T21:19:47.735455Z"
    },
    "papermill": {
     "duration": 0.047242,
     "end_time": "2022-07-15T21:19:47.738627",
     "exception": false,
     "start_time": "2022-07-15T21:19:47.691385",
     "status": "completed"
    },
    "tags": []
   },
   "outputs": [],
   "source": [
    "pred_df.columns = ['Test True y' , 'model prediction']"
   ]
  },
  {
   "cell_type": "code",
   "execution_count": 33,
   "id": "b3f7e7ed",
   "metadata": {
    "execution": {
     "iopub.execute_input": "2022-07-15T21:19:47.829997Z",
     "iopub.status.busy": "2022-07-15T21:19:47.829024Z",
     "iopub.status.idle": "2022-07-15T21:19:47.843651Z",
     "shell.execute_reply": "2022-07-15T21:19:47.842556Z"
    },
    "papermill": {
     "duration": 0.069503,
     "end_time": "2022-07-15T21:19:47.846561",
     "exception": false,
     "start_time": "2022-07-15T21:19:47.777058",
     "status": "completed"
    },
    "tags": []
   },
   "outputs": [
    {
     "data": {
      "text/html": [
       "<div>\n",
       "<style scoped>\n",
       "    .dataframe tbody tr th:only-of-type {\n",
       "        vertical-align: middle;\n",
       "    }\n",
       "\n",
       "    .dataframe tbody tr th {\n",
       "        vertical-align: top;\n",
       "    }\n",
       "\n",
       "    .dataframe thead th {\n",
       "        text-align: right;\n",
       "    }\n",
       "</style>\n",
       "<table border=\"1\" class=\"dataframe\">\n",
       "  <thead>\n",
       "    <tr style=\"text-align: right;\">\n",
       "      <th></th>\n",
       "      <th>Test True y</th>\n",
       "      <th>model prediction</th>\n",
       "    </tr>\n",
       "  </thead>\n",
       "  <tbody>\n",
       "    <tr>\n",
       "      <th>0</th>\n",
       "      <td>402.296319</td>\n",
       "      <td>404.903107</td>\n",
       "    </tr>\n",
       "    <tr>\n",
       "      <th>1</th>\n",
       "      <td>624.156198</td>\n",
       "      <td>622.925598</td>\n",
       "    </tr>\n",
       "    <tr>\n",
       "      <th>2</th>\n",
       "      <td>582.455066</td>\n",
       "      <td>591.528564</td>\n",
       "    </tr>\n",
       "    <tr>\n",
       "      <th>3</th>\n",
       "      <td>578.588606</td>\n",
       "      <td>571.715698</td>\n",
       "    </tr>\n",
       "    <tr>\n",
       "      <th>4</th>\n",
       "      <td>371.224104</td>\n",
       "      <td>366.365936</td>\n",
       "    </tr>\n",
       "    <tr>\n",
       "      <th>...</th>\n",
       "      <td>...</td>\n",
       "      <td>...</td>\n",
       "    </tr>\n",
       "    <tr>\n",
       "      <th>295</th>\n",
       "      <td>525.704657</td>\n",
       "      <td>528.572144</td>\n",
       "    </tr>\n",
       "    <tr>\n",
       "      <th>296</th>\n",
       "      <td>502.909473</td>\n",
       "      <td>514.986450</td>\n",
       "    </tr>\n",
       "    <tr>\n",
       "      <th>297</th>\n",
       "      <td>612.727910</td>\n",
       "      <td>609.041260</td>\n",
       "    </tr>\n",
       "    <tr>\n",
       "      <th>298</th>\n",
       "      <td>417.569725</td>\n",
       "      <td>416.511261</td>\n",
       "    </tr>\n",
       "    <tr>\n",
       "      <th>299</th>\n",
       "      <td>410.538250</td>\n",
       "      <td>410.520020</td>\n",
       "    </tr>\n",
       "  </tbody>\n",
       "</table>\n",
       "<p>300 rows × 2 columns</p>\n",
       "</div>"
      ],
      "text/plain": [
       "     Test True y  model prediction\n",
       "0     402.296319        404.903107\n",
       "1     624.156198        622.925598\n",
       "2     582.455066        591.528564\n",
       "3     578.588606        571.715698\n",
       "4     371.224104        366.365936\n",
       "..           ...               ...\n",
       "295   525.704657        528.572144\n",
       "296   502.909473        514.986450\n",
       "297   612.727910        609.041260\n",
       "298   417.569725        416.511261\n",
       "299   410.538250        410.520020\n",
       "\n",
       "[300 rows x 2 columns]"
      ]
     },
     "execution_count": 33,
     "metadata": {},
     "output_type": "execute_result"
    }
   ],
   "source": [
    "pred_df"
   ]
  },
  {
   "cell_type": "code",
   "execution_count": 34,
   "id": "db89f2cc",
   "metadata": {
    "execution": {
     "iopub.execute_input": "2022-07-15T21:19:47.932662Z",
     "iopub.status.busy": "2022-07-15T21:19:47.932283Z",
     "iopub.status.idle": "2022-07-15T21:19:48.168492Z",
     "shell.execute_reply": "2022-07-15T21:19:48.167290Z"
    },
    "papermill": {
     "duration": 0.278834,
     "end_time": "2022-07-15T21:19:48.171672",
     "exception": false,
     "start_time": "2022-07-15T21:19:47.892838",
     "status": "completed"
    },
    "tags": []
   },
   "outputs": [
    {
     "data": {
      "text/plain": [
       "<AxesSubplot:xlabel='Test True y', ylabel='model prediction'>"
      ]
     },
     "execution_count": 34,
     "metadata": {},
     "output_type": "execute_result"
    },
    {
     "data": {
      "image/png": "[encoded data removed]",
      "text/plain": [
       "<Figure size 432x288 with 1 Axes>"
      ]
     },
     "metadata": {
      "needs_background": "light"
     },
     "output_type": "display_data"
    }
   ],
   "source": [
    "sns.scatterplot(x='Test True y',y='model prediction',data=pred_df)"
   ]
  },
  {
   "cell_type": "code",
   "execution_count": 35,
   "id": "47f407bc",
   "metadata": {
    "execution": {
     "iopub.execute_input": "2022-07-15T21:19:48.253979Z",
     "iopub.status.busy": "2022-07-15T21:19:48.253386Z",
     "iopub.status.idle": "2022-07-15T21:19:48.257709Z",
     "shell.execute_reply": "2022-07-15T21:19:48.256562Z"
    },
    "papermill": {
     "duration": 0.047132,
     "end_time": "2022-07-15T21:19:48.260717",
     "exception": false,
     "start_time": "2022-07-15T21:19:48.213585",
     "status": "completed"
    },
    "tags": []
   },
   "outputs": [],
   "source": [
    "from sklearn.metrics import mean_absolute_error, mean_squared_error"
   ]
  },
  {
   "cell_type": "code",
   "execution_count": 36,
   "id": "30c94468",
   "metadata": {
    "execution": {
     "iopub.execute_input": "2022-07-15T21:19:48.343003Z",
     "iopub.status.busy": "2022-07-15T21:19:48.342191Z",
     "iopub.status.idle": "2022-07-15T21:19:48.350902Z",
     "shell.execute_reply": "2022-07-15T21:19:48.349606Z"
    },
    "papermill": {
     "duration": 0.052272,
     "end_time": "2022-07-15T21:19:48.353269",
     "exception": false,
     "start_time": "2022-07-15T21:19:48.300997",
     "status": "completed"
    },
    "tags": []
   },
   "outputs": [
    {
     "data": {
      "text/plain": [
       "4.011530114329717"
      ]
     },
     "execution_count": 36,
     "metadata": {},
     "output_type": "execute_result"
    }
   ],
   "source": [
    "mean_absolute_error(y_test, predict)"
   ]
  },
  {
   "cell_type": "code",
   "execution_count": 37,
   "id": "c3a76bc9",
   "metadata": {
    "execution": {
     "iopub.execute_input": "2022-07-15T21:19:48.437916Z",
     "iopub.status.busy": "2022-07-15T21:19:48.437071Z",
     "iopub.status.idle": "2022-07-15T21:19:48.459464Z",
     "shell.execute_reply": "2022-07-15T21:19:48.458550Z"
    },
    "papermill": {
     "duration": 0.066242,
     "end_time": "2022-07-15T21:19:48.461862",
     "exception": false,
     "start_time": "2022-07-15T21:19:48.395620",
     "status": "completed"
    },
    "tags": []
   },
   "outputs": [
    {
     "data": {
      "text/html": [
       "<div>\n",
       "<style scoped>\n",
       "    .dataframe tbody tr th:only-of-type {\n",
       "        vertical-align: middle;\n",
       "    }\n",
       "\n",
       "    .dataframe tbody tr th {\n",
       "        vertical-align: top;\n",
       "    }\n",
       "\n",
       "    .dataframe thead th {\n",
       "        text-align: right;\n",
       "    }\n",
       "</style>\n",
       "<table border=\"1\" class=\"dataframe\">\n",
       "  <thead>\n",
       "    <tr style=\"text-align: right;\">\n",
       "      <th></th>\n",
       "      <th>price</th>\n",
       "      <th>feature1</th>\n",
       "      <th>feature2</th>\n",
       "    </tr>\n",
       "  </thead>\n",
       "  <tbody>\n",
       "    <tr>\n",
       "      <th>count</th>\n",
       "      <td>1000.000000</td>\n",
       "      <td>1000.000000</td>\n",
       "      <td>1000.000000</td>\n",
       "    </tr>\n",
       "    <tr>\n",
       "      <th>mean</th>\n",
       "      <td>498.673029</td>\n",
       "      <td>1000.014171</td>\n",
       "      <td>999.979847</td>\n",
       "    </tr>\n",
       "    <tr>\n",
       "      <th>std</th>\n",
       "      <td>93.785431</td>\n",
       "      <td>0.974018</td>\n",
       "      <td>0.948330</td>\n",
       "    </tr>\n",
       "    <tr>\n",
       "      <th>min</th>\n",
       "      <td>223.346793</td>\n",
       "      <td>997.058347</td>\n",
       "      <td>996.995651</td>\n",
       "    </tr>\n",
       "    <tr>\n",
       "      <th>25%</th>\n",
       "      <td>433.025732</td>\n",
       "      <td>999.332068</td>\n",
       "      <td>999.316106</td>\n",
       "    </tr>\n",
       "    <tr>\n",
       "      <th>50%</th>\n",
       "      <td>502.382117</td>\n",
       "      <td>1000.009915</td>\n",
       "      <td>1000.002243</td>\n",
       "    </tr>\n",
       "    <tr>\n",
       "      <th>75%</th>\n",
       "      <td>564.921588</td>\n",
       "      <td>1000.637580</td>\n",
       "      <td>1000.645380</td>\n",
       "    </tr>\n",
       "    <tr>\n",
       "      <th>max</th>\n",
       "      <td>774.407854</td>\n",
       "      <td>1003.207934</td>\n",
       "      <td>1002.666308</td>\n",
       "    </tr>\n",
       "  </tbody>\n",
       "</table>\n",
       "</div>"
      ],
      "text/plain": [
       "             price     feature1     feature2\n",
       "count  1000.000000  1000.000000  1000.000000\n",
       "mean    498.673029  1000.014171   999.979847\n",
       "std      93.785431     0.974018     0.948330\n",
       "min     223.346793   997.058347   996.995651\n",
       "25%     433.025732   999.332068   999.316106\n",
       "50%     502.382117  1000.009915  1000.002243\n",
       "75%     564.921588  1000.637580  1000.645380\n",
       "max     774.407854  1003.207934  1002.666308"
      ]
     },
     "execution_count": 37,
     "metadata": {},
     "output_type": "execute_result"
    }
   ],
   "source": [
    "df.describe()"
   ]
  },
  {
   "cell_type": "code",
   "execution_count": 38,
   "id": "a8e460ee",
   "metadata": {
    "execution": {
     "iopub.execute_input": "2022-07-15T21:19:48.545124Z",
     "iopub.status.busy": "2022-07-15T21:19:48.544077Z",
     "iopub.status.idle": "2022-07-15T21:19:48.551167Z",
     "shell.execute_reply": "2022-07-15T21:19:48.550358Z"
    },
    "papermill": {
     "duration": 0.050359,
     "end_time": "2022-07-15T21:19:48.553237",
     "exception": false,
     "start_time": "2022-07-15T21:19:48.502878",
     "status": "completed"
    },
    "tags": []
   },
   "outputs": [
    {
     "data": {
      "text/plain": [
       "25.101922868106385"
      ]
     },
     "execution_count": 38,
     "metadata": {},
     "output_type": "execute_result"
    }
   ],
   "source": [
    "mean_squared_error(y_test, predict)"
   ]
  },
  {
   "cell_type": "code",
   "execution_count": 39,
   "id": "ac1eace9",
   "metadata": {
    "execution": {
     "iopub.execute_input": "2022-07-15T21:19:48.635359Z",
     "iopub.status.busy": "2022-07-15T21:19:48.634908Z",
     "iopub.status.idle": "2022-07-15T21:19:48.639071Z",
     "shell.execute_reply": "2022-07-15T21:19:48.638271Z"
    },
    "papermill": {
     "duration": 0.046753,
     "end_time": "2022-07-15T21:19:48.641089",
     "exception": false,
     "start_time": "2022-07-15T21:19:48.594336",
     "status": "completed"
    },
    "tags": []
   },
   "outputs": [],
   "source": [
    "new_gem = [[998,1000]]"
   ]
  },
  {
   "cell_type": "code",
   "execution_count": 40,
   "id": "fd619633",
   "metadata": {
    "execution": {
     "iopub.execute_input": "2022-07-15T21:19:48.723557Z",
     "iopub.status.busy": "2022-07-15T21:19:48.722848Z",
     "iopub.status.idle": "2022-07-15T21:19:48.728187Z",
     "shell.execute_reply": "2022-07-15T21:19:48.726636Z"
    },
    "papermill": {
     "duration": 0.049995,
     "end_time": "2022-07-15T21:19:48.730668",
     "exception": false,
     "start_time": "2022-07-15T21:19:48.680673",
     "status": "completed"
    },
    "tags": []
   },
   "outputs": [],
   "source": [
    "new_gem = scaler.transform(new_gem)"
   ]
  },
  {
   "cell_type": "code",
   "execution_count": 41,
   "id": "4942ff25",
   "metadata": {
    "execution": {
     "iopub.execute_input": "2022-07-15T21:19:48.810558Z",
     "iopub.status.busy": "2022-07-15T21:19:48.809883Z",
     "iopub.status.idle": "2022-07-15T21:19:48.879116Z",
     "shell.execute_reply": "2022-07-15T21:19:48.877899Z"
    },
    "papermill": {
     "duration": 0.111966,
     "end_time": "2022-07-15T21:19:48.881977",
     "exception": false,
     "start_time": "2022-07-15T21:19:48.770011",
     "status": "completed"
    },
    "tags": []
   },
   "outputs": [
    {
     "data": {
      "text/plain": [
       "array([[419.37396]], dtype=float32)"
      ]
     },
     "execution_count": 41,
     "metadata": {},
     "output_type": "execute_result"
    }
   ],
   "source": [
    "model.predict(new_gem)"
   ]
  },
  {
   "cell_type": "code",
   "execution_count": null,
   "id": "380ed96e",
   "metadata": {
    "papermill": {
     "duration": 0.038953,
     "end_time": "2022-07-15T21:19:48.962037",
     "exception": false,
     "start_time": "2022-07-15T21:19:48.923084",
     "status": "completed"
    },
    "tags": []
   },
   "outputs": [],
   "source": []
  }
 ],
 "metadata": {
  "kernelspec": {
   "display_name": "Python 3",
   "language": "python",
   "name": "python3"
  },
  "language_info": {
   "codemirror_mode": {
    "name": "ipython",
    "version": 3
   },
   "file_extension": ".py",
   "mimetype": "text/x-python",
   "name": "python",
   "nbconvert_exporter": "python",
   "pygments_lexer": "ipython3",
   "version": "3.7.12"
  },
  "papermill": {
   "default_parameters": {},
   "duration": 41.625587,
   "end_time": "2022-07-15T21:19:52.596165",
   "environment_variables": {},
   "exception": null,
   "input_path": "__notebook__.ipynb",
   "output_path": "__notebook__.ipynb",
   "parameters": {},
   "start_time": "2022-07-15T21:19:10.970578",
   "version": "2.3.4"
  }
 },
 "nbformat": 4,
 "nbformat_minor": 5
}
